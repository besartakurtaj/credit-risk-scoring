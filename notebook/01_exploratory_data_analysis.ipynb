{
 "cells": [
  {
   "cell_type": "code",
   "execution_count": 6,
   "id": "97721211",
   "metadata": {
    "vscode": {
     "languageId": "plaintext"
    }
   },
   "outputs": [
    {
     "name": "stdout",
     "output_type": "stream",
     "text": [
      "['person_age' 'person_income' 'person_home_ownership' 'person_emp_length'\n",
      " 'loan_intent' 'loan_grade' 'loan_amnt' 'loan_int_rate' 'loan_status'\n",
      " 'loan_percent_income' 'cb_person_default_on_file'\n",
      " 'cb_person_cred_hist_length']\n"
     ]
    }
   ],
   "source": [
    "import pandas as pd\n",
    "from sklearn.model_selection import train_test_split\n",
    "from sklearn.preprocessing import StandardScaler, LabelEncoder\n",
    "import joblib\n",
    "\n",
    "# Load dataset\n",
    "df = pd.read_csv(\"../data/raw/credit_risk_dataset.csv\")\n",
    "\n",
    "# Create 'default' column\n",
    "df['default'] = (df['loan_status'] > 0).astype(int)\n",
    "\n",
    "# Drop risk_score if exists\n",
    "df = df.drop(['risk_score'], axis=1, errors='ignore')\n",
    "\n",
    "# Encode categorical features\n",
    "categorical_cols = df.select_dtypes(include='object').columns\n",
    "df[categorical_cols] = df[categorical_cols].apply(LabelEncoder().fit_transform)\n",
    "\n",
    "# Split\n",
    "X = df.drop('default', axis=1)\n",
    "y = df['default']\n",
    "X_train, X_test, y_train, y_test = train_test_split(X, y, test_size=0.2, random_state=42)\n",
    "\n",
    "# Scale\n",
    "scaler = StandardScaler()\n",
    "X_train_scaled = scaler.fit_transform(X_train)\n",
    "X_test_scaled = scaler.transform(X_test)\n",
    "\n",
    "# Save data and scaler\n",
    "joblib.dump((X_train_scaled, X_test_scaled, y_train, y_test), \"processed_data.pkl\")\n",
    "joblib.dump(scaler, \"scaler.pkl\")\n",
    "\n",
    "\n",
    "import pickle\n",
    "\n",
    "# Replace 'file.pkl' with the path to your pickle file\n",
    "with open('scaler.pkl', 'rb') as f:\n",
    "    data = pickle.load(f)\n",
    "\n",
    "# Now 'data' contains the object that was stored in the .pkl file\n",
    "print(data)\n"
   ]
  },
  {
   "cell_type": "code",
   "execution_count": null,
   "id": "b98bde9c-9d6e-4035-8b55-37626bafe574",
   "metadata": {},
   "outputs": [],
   "source": []
  },
  {
   "cell_type": "code",
   "execution_count": null,
   "id": "7536dfb5-94d1-45ca-b440-8c947df707d0",
   "metadata": {},
   "outputs": [],
   "source": []
  }
 ],
 "metadata": {
  "kernelspec": {
   "display_name": "Python 3 (ipykernel)",
   "language": "python",
   "name": "python3"
  },
  "language_info": {
   "codemirror_mode": {
    "name": "ipython",
    "version": 3
   },
   "file_extension": ".py",
   "mimetype": "text/x-python",
   "name": "python",
   "nbconvert_exporter": "python",
   "pygments_lexer": "ipython3",
   "version": "3.13.3"
  }
 },
 "nbformat": 4,
 "nbformat_minor": 5
}
