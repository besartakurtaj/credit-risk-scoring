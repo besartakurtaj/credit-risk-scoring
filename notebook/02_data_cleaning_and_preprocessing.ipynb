{
 "cells": [
  {
   "cell_type": "code",
   "execution_count": 5,
   "id": "e67c7e98",
   "metadata": {
    "vscode": {
     "languageId": "plaintext"
    }
   },
   "outputs": [
    {
     "name": "stdout",
     "output_type": "stream",
     "text": [
      "Model.pkl: LogisticRegression()\n",
      "y_pred.pkl: [0 0 0 ... 0 0 0]\n"
     ]
    }
   ],
   "source": [
    "import joblib\n",
    "from sklearn.linear_model import LogisticRegression\n",
    "from sklearn.impute import SimpleImputer\n",
    "\n",
    "# Load processed data\n",
    "X_train, X_test, y_train, y_test = joblib.load(\"processed_data.pkl\")\n",
    "\n",
    "# Train model\n",
    "model = LogisticRegression()\n",
    "imputer = SimpleImputer(strategy='mean')  # or 'median', 'most_frequent', etc.\n",
    "X_train = imputer.fit_transform(X_train)\n",
    "X_test = imputer.transform(X_test)\n",
    "model.fit(X_train, y_train)\n",
    "\n",
    "# Predict\n",
    "y_pred = model.predict(X_test)\n",
    "\n",
    "# Save model and predictions\n",
    "joblib.dump(model, \"model.pkl\")\n",
    "joblib.dump(y_pred, \"y_pred.pkl\")\n",
    "\n",
    "# Load them back if needed\n",
    "model = joblib.load(\"model.pkl\")\n",
    "y_pred = joblib.load(\"y_pred.pkl\")\n",
    "\n",
    "# Print contents\n",
    "print(\"Model.pkl:\", model)\n",
    "print(\"y_pred.pkl:\", y_pred)\n"
   ]
  },
  {
   "cell_type": "code",
   "execution_count": null,
   "id": "ce3d1d00-43f8-4af1-a90c-60b2ed0fbe7a",
   "metadata": {},
   "outputs": [],
   "source": []
  },
  {
   "cell_type": "code",
   "execution_count": null,
   "id": "d71ad49b-911c-4e66-aaee-89868e808b62",
   "metadata": {},
   "outputs": [],
   "source": []
  }
 ],
 "metadata": {
  "kernelspec": {
   "display_name": "Python 3 (ipykernel)",
   "language": "python",
   "name": "python3"
  },
  "language_info": {
   "codemirror_mode": {
    "name": "ipython",
    "version": 3
   },
   "file_extension": ".py",
   "mimetype": "text/x-python",
   "name": "python",
   "nbconvert_exporter": "python",
   "pygments_lexer": "ipython3",
   "version": "3.13.3"
  }
 },
 "nbformat": 4,
 "nbformat_minor": 5
}
